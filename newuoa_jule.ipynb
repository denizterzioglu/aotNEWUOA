{
 "cells": [
  {
   "cell_type": "code",
   "execution_count": 6,
   "metadata": {},
   "outputs": [
    {
     "ename": "FileNotFoundError",
     "evalue": "[Errno 2] No such file or directory: 'data/X.npy'",
     "output_type": "error",
     "traceback": [
      "\u001b[1;31m---------------------------------------------------------------------------\u001b[0m",
      "\u001b[1;31mFileNotFoundError\u001b[0m                         Traceback (most recent call last)",
      "\u001b[1;32mc:\\Appl\\Applied Optimization Techniques\\newuoa_jule.ipynb Cell 1\u001b[0m in \u001b[0;36m<cell line: 7>\u001b[1;34m()\u001b[0m\n\u001b[0;32m      <a href='vscode-notebook-cell:/c%3A/Appl/Applied%20Optimization%20Techniques/newuoa_jule.ipynb#W0sZmlsZQ%3D%3D?line=3'>4</a>\u001b[0m \u001b[39mfrom\u001b[39;00m \u001b[39msklearn\u001b[39;00m\u001b[39m.\u001b[39;00m\u001b[39mmodel_selection\u001b[39;00m \u001b[39mimport\u001b[39;00m train_test_split\n\u001b[0;32m      <a href='vscode-notebook-cell:/c%3A/Appl/Applied%20Optimization%20Techniques/newuoa_jule.ipynb#W0sZmlsZQ%3D%3D?line=5'>6</a>\u001b[0m \u001b[39m# Load data\u001b[39;00m\n\u001b[1;32m----> <a href='vscode-notebook-cell:/c%3A/Appl/Applied%20Optimization%20Techniques/newuoa_jule.ipynb#W0sZmlsZQ%3D%3D?line=6'>7</a>\u001b[0m X \u001b[39m=\u001b[39m np\u001b[39m.\u001b[39;49mload(\u001b[39m'\u001b[39;49m\u001b[39mdata/X.npy\u001b[39;49m\u001b[39m'\u001b[39;49m)\n\u001b[0;32m      <a href='vscode-notebook-cell:/c%3A/Appl/Applied%20Optimization%20Techniques/newuoa_jule.ipynb#W0sZmlsZQ%3D%3D?line=7'>8</a>\u001b[0m y \u001b[39m=\u001b[39m np\u001b[39m.\u001b[39mload(\u001b[39m'\u001b[39m\u001b[39mdata/y.npy\u001b[39m\u001b[39m'\u001b[39m)\n\u001b[0;32m     <a href='vscode-notebook-cell:/c%3A/Appl/Applied%20Optimization%20Techniques/newuoa_jule.ipynb#W0sZmlsZQ%3D%3D?line=9'>10</a>\u001b[0m \u001b[39m# Split data into training and validation sets\u001b[39;00m\n",
      "File \u001b[1;32mc:\\Appl\\Python3.10\\lib\\site-packages\\numpy\\lib\\npyio.py:407\u001b[0m, in \u001b[0;36mload\u001b[1;34m(file, mmap_mode, allow_pickle, fix_imports, encoding)\u001b[0m\n\u001b[0;32m    405\u001b[0m     own_fid \u001b[39m=\u001b[39m \u001b[39mFalse\u001b[39;00m\n\u001b[0;32m    406\u001b[0m \u001b[39melse\u001b[39;00m:\n\u001b[1;32m--> 407\u001b[0m     fid \u001b[39m=\u001b[39m stack\u001b[39m.\u001b[39menter_context(\u001b[39mopen\u001b[39;49m(os_fspath(file), \u001b[39m\"\u001b[39;49m\u001b[39mrb\u001b[39;49m\u001b[39m\"\u001b[39;49m))\n\u001b[0;32m    408\u001b[0m     own_fid \u001b[39m=\u001b[39m \u001b[39mTrue\u001b[39;00m\n\u001b[0;32m    410\u001b[0m \u001b[39m# Code to distinguish from NumPy binary files and pickles.\u001b[39;00m\n",
      "\u001b[1;31mFileNotFoundError\u001b[0m: [Errno 2] No such file or directory: 'data/X.npy'"
     ]
    }
   ],
   "source": [
    "import numpy as np\n",
    "import nlopt\n",
    "from sklearn.svm import SVC\n",
    "from sklearn.model_selection import train_test_split\n",
    "\n",
    "# Load data\n",
    "X = np.load('data/X.npy')\n",
    "y = np.load('data/y.npy')\n",
    "\n",
    "# Split data into training and validation sets\n",
    "X_train, X_val, y_train, y_val = train_test_split(X, y, test_size=0.2, random_state=1)\n",
    "\n",
    "# Define objective function to be minimized (negative accuracy)\n",
    "def objective(params, X, y, model_func):\n",
    "    # Set kernel\n",
    "    kernel = 'rbf'\n",
    "\n",
    "    # Set C and gamma\n",
    "    C = params[0]\n",
    "    gamma = params[1]\n",
    "\n",
    "    # Train SVM model with given hyperparameters\n",
    "    model = model_func(X, y, C=C, gamma=gamma, kernel=kernel)\n",
    "\n",
    "    # Evaluate accuracy on validation set\n",
    "    acc = model.score(X_val, y_val)\n",
    "\n",
    "    # Return negative accuracy for minimization\n",
    "    return -acc\n",
    "\n",
    "# Define constraints for hyperparameters\n",
    "def constraint(params):\n",
    "    C = params[0]\n",
    "    gamma = params[1]\n",
    "    return C - 1e-6, gamma - 1e-6\n",
    "\n",
    "# Define function to optimize SVM hyperparameters with newuoa\n",
    "def optimize_svm(X, y, model_func, bounds):\n",
    "    # Set initial guess for hyperparameters\n",
    "    init_guess = [1.0, 1.0]\n",
    "\n",
    "    # Define optimization problem\n",
    "    opt = nlopt.opt(nlopt.LN_NEWUOA, 2)\n",
    "    opt.set_min_objective(lambda params: objective(params, X, y, model_func))\n",
    "    opt.set_lower_bounds([bounds[0][0], bounds[1][0]])\n",
    "    opt.set_upper_bounds([bounds[0][1], bounds[1][1]])\n",
    "    opt.add_equality_constraint(constraint)\n",
    "\n",
    "    # Run optimization\n",
    "    params = opt.optimize(init_guess)\n",
    "\n",
    "    # Train SVM model with optimized hyperparameters\n",
    "    C_opt = params[0]\n",
    "    gamma_opt = params[1]\n",
    "    model_opt = model_func(X, y, C=C_opt, gamma=gamma_opt, kernel='rbf')\n",
    "\n",
    "    # Print best hyperparameters and accuracy on validation set\n",
    "    print(f\"Best hyperparameters: C = {C_opt:.6f}, gamma = {gamma_opt:.6f}\")\n",
    "    print(f\"Accuracy on validation set: {model_opt.score(X_val, y_val):.6f}\")\n",
    "\n",
    "    return C_opt, gamma_opt, model_opt\n",
    "\n",
    "# Define bounds for hyperparameters\n",
    "bounds = [(1e-5, 10), (1e-5, 10)]\n",
    "\n",
    "# Call optimization function with SVM as model function\n",
    "C_opt, gamma_opt, model_opt = optimize_svm(X_train, y_train, SVC, bounds)\n"
   ]
  }
 ],
 "metadata": {
  "kernelspec": {
   "display_name": "Python 3",
   "language": "python",
   "name": "python3"
  },
  "language_info": {
   "codemirror_mode": {
    "name": "ipython",
    "version": 3
   },
   "file_extension": ".py",
   "mimetype": "text/x-python",
   "name": "python",
   "nbconvert_exporter": "python",
   "pygments_lexer": "ipython3",
   "version": "3.10.4"
  },
  "orig_nbformat": 4
 },
 "nbformat": 4,
 "nbformat_minor": 2
}
